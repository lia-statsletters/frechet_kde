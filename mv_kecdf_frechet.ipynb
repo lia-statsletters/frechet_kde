{
 "cells": [
  {
   "cell_type": "markdown",
   "metadata": {
    "slideshow": {
     "slide_type": "skip"
    }
   },
   "source": [
    "jupyter nbconvert mv_kecdf_frechet.ipynb --to slides --post serve"
   ]
  },
  {
   "cell_type": "code",
   "execution_count": 1,
   "metadata": {
    "collapsed": true,
    "slideshow": {
     "slide_type": "skip"
    }
   },
   "outputs": [],
   "source": [
    "from __future__ import division\n",
    "\n",
    "import matplotlib.pyplot as plt\n",
    "import numpy as np\n",
    "import scipy.stats as spst\n",
    "import statsmodels.api as sm\n",
    "from scipy import optimize\n",
    "\n",
    "from statsmodels.nonparametric import kernels\n",
    "\n",
    "\n",
    "kernel_func = dict(wangryzin=kernels.wang_ryzin,\n",
    "                   aitchisonaitken=kernels.aitchison_aitken,\n",
    "                   gaussian=kernels.gaussian,\n",
    "                   aitchison_aitken_reg = kernels.aitchison_aitken_reg,\n",
    "                   wangryzin_reg = kernels.wang_ryzin_reg,\n",
    "                   gauss_convolution=kernels.gaussian_convolution,\n",
    "                   wangryzin_convolution=kernels.wang_ryzin_convolution,\n",
    "                   aitchisonaitken_convolution=kernels.aitchison_aitken_convolution,\n",
    "                   gaussian_cdf=kernels.gaussian_cdf,\n",
    "                   aitchisonaitken_cdf=kernels.aitchison_aitken_cdf,\n",
    "                   wangryzin_cdf=kernels.wang_ryzin_cdf,\n",
    "                   d_gaussian=kernels.d_gaussian)\n",
    "\n",
    "def gpke(bwp, dataxx, data_predict, var_type, ckertype='gaussian',\n",
    "         okertype='wangryzin', ukertype='aitchisonaitken', tosum=True):\n",
    "    r\"\"\"Returns the non-normalized Generalized Product Kernel Estimator\"\"\"\n",
    "    kertypes = dict(c=ckertype, o=okertype, u=ukertype)\n",
    "    Kval = np.empty(dataxx.shape)\n",
    "    for ii, vtype in enumerate(var_type):\n",
    "        func = kernel_func[kertypes[vtype]]\n",
    "        Kval[:, ii] = func(bwp[ii], dataxx[:, ii], data_predict[ii])\n",
    "\n",
    "    iscontinuous = np.array([c == 'c' for c in var_type])\n",
    "    dens = Kval.prod(axis=1) / np.prod(bwp[iscontinuous])\n",
    "    #dens = np.nanprod(Kval,axis=1) / np.prod(bwp[iscontinuous])\n",
    "    if tosum:\n",
    "        return dens.sum(axis=0)\n",
    "    else:\n",
    "        return dens\n",
    "\n",
    "\n",
    "class LeaveOneOut(object):\n",
    "    def __init__(self, X):\n",
    "        self.X = np.asarray(X)\n",
    "\n",
    "    def __iter__(self):\n",
    "        X = self.X\n",
    "        nobs, k_vars = np.shape(X)\n",
    "\n",
    "        for i in range(nobs):\n",
    "            index = np.ones(nobs, dtype=np.bool)\n",
    "            index[i] = False\n",
    "            yield X[index, :]\n",
    "\n",
    "\n",
    "\n",
    "def loo_likelihood(bww, datax, var_type, func=lambda x: x, ):\n",
    "    #print(bww)\n",
    "    LOO = LeaveOneOut(datax)\n",
    "    L = 0\n",
    "    for i, X_not_i in enumerate(LOO):\n",
    "        f_i = gpke(bww, dataxx=-X_not_i, data_predict=-datax[i, :],\n",
    "                   var_type=var_type)\n",
    "        L += func(f_i)\n",
    "    return -L\n",
    "\n",
    "\n",
    "def get_bw(datapfft ,var_type ,reference):\n",
    "    # Using leave-one-out likelihood\n",
    "    # the initial value for the optimization is the normal_reference\n",
    "    # h0 = normal_reference()\n",
    "\n",
    "    data = adjust_shape(datapfft, len(var_type))\n",
    "\n",
    "    h0 =reference\n",
    "    fmin =lambda bb, funcx: loo_likelihood(bb, data, var_type, func=funcx)\n",
    "    bw = optimize.fmin(fmin, x0=h0, args=(np.log, ),\n",
    "                       maxiter=1e3, maxfun=1e3, disp=0, xtol=1e-3)\n",
    "    # bw = self._set_bw_bounds(bw)  # bound bw if necessary\n",
    "    return bw\n",
    "\n",
    "def adjust_shape(dat, k_vars):\n",
    "    \"\"\" Returns an array of shape (nobs, k_vars) for use with `gpke`.\"\"\"\n",
    "    dat = np.asarray(dat)\n",
    "    if dat.ndim > 2:\n",
    "        dat = np.squeeze(dat)\n",
    "    if dat.ndim == 1 and k_vars > 1:  # one obs many vars\n",
    "        nobs = 1\n",
    "    elif dat.ndim == 1 and k_vars == 1:  # one obs one var\n",
    "        nobs = len(dat)\n",
    "    else:\n",
    "        if np.shape(dat)[0] == k_vars and np.shape(dat)[1] != k_vars:\n",
    "            dat = dat.T\n",
    "\n",
    "        nobs = np.shape(dat)[0]  # ndim >1 so many obs many vars\n",
    "\n",
    "    dat = np.reshape(dat, (nobs, k_vars))\n",
    "    return dat\n",
    "\n",
    "%alias_magic t timeit"
   ]
  },
  {
   "cell_type": "markdown",
   "metadata": {
    "slideshow": {
     "slide_type": "slide"
    }
   },
   "source": [
    "# Data science friday tales:\n",
    "### Using Fréchet Bounds for Bandwidth selection in MV Kernel Methods.\n",
    "\n",
    "#### Lia Silva-Lopez\n",
    "\n",
    "---\n",
    "\n",
    "*Tuesday, 19/03/2019*"
   ]
  },
  {
   "cell_type": "markdown",
   "metadata": {
    "slideshow": {
     "slide_type": "slide"
    }
   },
   "source": [
    "## This story starts with a reading accident\n",
    "---\n",
    "\n",
    "#### One moment you are reading a book...\n",
    "\n",
    "<img src=\"img/reading_accident.png\">\n",
    "\n",
    "#### ...And the next there are bounds for everything."
   ]
  },
  {
   "cell_type": "markdown",
   "metadata": {
    "slideshow": {
     "slide_type": "slide"
    }
   },
   "source": [
    "## Bounds for distributions* in terms of its marginals?\n",
    "---\n",
    "\n",
    "* That makes perfect sense!\n",
    "\n",
    "* Why aren't these bounds more mainstream? \n",
    "\n",
    "* Is it because it's hard to pronounce 'Fréchet'?\n",
    "\n",
    "*_with distributions we mean CDFs, not densities_"
   ]
  },
  {
   "cell_type": "markdown",
   "metadata": {
    "slideshow": {
     "slide_type": "slide"
    }
   },
   "source": [
    "## Allright, let's point the fingers at ourselves:\n",
    "---\n",
    "\n",
    "## What would **I** do with Fréchet bounds?\n",
    "\n",
    "\n",
    "'Cause the *whole point* of bounds is to try **_not_** to break them. Right?\n",
    "\n",
    "\n",
    "<img src=\"https://media3.giphy.com/media/145lrrvcdNq43m/source.gif\" style=\"width: 280px;\">"
   ]
  },
  {
   "cell_type": "markdown",
   "metadata": {
    "slideshow": {
     "slide_type": "slide"
    }
   },
   "source": [
    "## An idea: Let's use them for Bandwidth selection in MV KDEs.\n",
    "---\n",
    "\n",
    "* MV kernel estimation is expensive, slow and often hard to check with d>2.\n",
    "\n",
    "\n",
    "* Which is why Kernel methods are recommended for smoothing (mostly).\n",
    "\n",
    "\n",
    "* However, working with multivariate is not easy.\n",
    "    * So a lot of people turn to KDEs in the lack of better information.\n",
    "    * Or, throw samples at a blackbox and hope for the best."
   ]
  },
  {
   "cell_type": "markdown",
   "metadata": {
    "slideshow": {
     "slide_type": "slide"
    }
   },
   "source": [
    "## How can we use Fréchet bounds here?\n",
    "---\n",
    "\n",
    "There are different methods for BW selection, many based on some kind of optimization.\n",
    "\n",
    "* To prune the search space on any iterative method:\n",
    "    * (Naive) Removing bws that lead to estimates violating the bounds.\n",
    "    * (Less naive, but less parsinomic) prune using thresholds.\n",
    "    \n",
    "\n",
    "* To construct functions to optimize over:\n",
    "    * (Cheap, uninformative) Counting the number of violations of the bound?\n",
    "    * (Cheap, informative) Summing all diffs between each violation and the bound point?"
   ]
  },
  {
   "cell_type": "markdown",
   "metadata": {
    "slideshow": {
     "slide_type": "slide"
    }
   },
   "source": [
    "## Other questions to answer:\n",
    "---\n",
    "\n",
    "* Are we breaking Fréchet bounds when estimating CDFs with Kernels?\n",
    "\n",
    "    * And if we break them, \n",
    "        * How _badly_ are they usually broken?\n",
    "        * Do they get broken often?\n",
    "    \n",
    "\n",
    "* What are the consequences of selecting BWs that lead to breaking Fréchet?"
   ]
  },
  {
   "cell_type": "markdown",
   "metadata": {
    "slideshow": {
     "slide_type": "slide"
    }
   },
   "source": [
    "<img src=\"https://memegenerator.net/img/instances/63332969/do-all-the-things.jpg\" style=\"width: 70%;\">"
   ]
  },
  {
   "cell_type": "markdown",
   "metadata": {
    "slideshow": {
     "slide_type": "slide"
    }
   },
   "source": [
    "## What's in Python for this?\n",
    "---\n",
    "\n",
    "* Scikit-Learn, Scipy, StatsModels are the usual suspects.\n",
    "\n",
    "\n",
    "* Only StatsModels has a convenience method to estimate CDFs with use Kernels.\n",
    "\n",
    "\n",
    "* Based solely on making my life easy, I chose StatsModels to hack MV KDE methods and insert Fréchet bounds in BW estimation."
   ]
  },
  {
   "cell_type": "markdown",
   "metadata": {
    "slideshow": {
     "slide_type": "slide"
    }
   },
   "source": [
    "## StatsModels KDEMultivariate Package\n",
    "---\n",
    "\n",
    "* Wrapper code for MV KDE [here](https://www.statsmodels.org/dev/_modules/statsmodels/nonparametric/kernel_density.html#KDEMultivariate)\n",
    "\n",
    "\n",
    "* Base code for bandwith selection methods [here](https://www.statsmodels.org/dev/_modules/statsmodels/nonparametric/_kernel_base.html).\n",
    "\n",
    "\n",
    "## Let's have a quick overview for how this _normally_ works."
   ]
  },
  {
   "cell_type": "markdown",
   "metadata": {
    "slideshow": {
     "slide_type": "slide"
    }
   },
   "source": [
    "## First we generate some data to call the methods.\n",
    "---\n",
    "\n",
    "#### We will use some betas.\n"
   ]
  },
  {
   "cell_type": "code",
   "execution_count": 18,
   "metadata": {
    "slideshow": {
     "slide_type": "fragment"
    }
   },
   "outputs": [
    {
     "data": {
      "image/png": "[encoded data removed]",
      "text/plain": [
       "<Figure size 720x360 with 2 Axes>"
      ]
     },
     "metadata": {},
     "output_type": "display_data"
    }
   ],
   "source": [
    "n=1000\n",
    "distr=spst.beta #<-- From SciPy\n",
    "smpl=np.linspace(0,1,num=n)\n",
    "params={'horns':(0.5,0.5),'horns1':(0.5,0.55),\n",
    "        'shower':(5.,2.),'grower':(2.,5.)}\n",
    "\n",
    "v_type=f'{\"c\"*len(params)}' #<-- Statsmodels wants to know if data is \n",
    "                            # continuous (c) \n",
    "                            # discrete ordered (o) \n",
    "                            # discrete unordered (u)\n",
    "    \n",
    "fig, ax = plt.subplots(1,2,figsize=(10,5))\n",
    "list(map(lambda x: ax[0].plot(distr.cdf(smpl,*x),smpl) , params.values()))\n",
    "list(map(lambda x: ax[1].plot(smpl,distr.pdf(smpl,*x)) , params.values()))\n",
    "ax[0].legend(list(params.keys()));ax[1].legend(list(params.keys()))\n",
    "ax[0].grid(); ax[1].grid() \n",
    "fig.suptitle(f'CDFs & PDFs for different marginals (Beta distributed)')\n",
    "plt.show()"
   ]
  },
  {
   "cell_type": "markdown",
   "metadata": {
    "slideshow": {
     "slide_type": "slide"
    }
   },
   "source": [
    "## Kernels and BW Selection Methods\n",
    "---\n",
    "\n",
    "#### Kernel selection depends on \"v_type\". For \"c\" -> Gaussian Kernel. \n",
    "\n",
    "This is a list of the kernel functions available in the package\n",
    "\n",
    "kernel_func = dict(\n",
    "                    \n",
    "                   wangryzin=kernels.wang_ryzin,\n",
    "                   aitchisonaitken=kernels.aitchison_aitken,\n",
    "                   gaussian=kernels.gaussian,\n",
    "                   \n",
    "                   aitchison_aitken_reg = kernels.aitchison_aitken_reg,\n",
    "                   wangryzin_reg = kernels.wang_ryzin_reg,\n",
    "                   \n",
    "                   gauss_convolution=kernels.gaussian_convolution,\n",
    "                   wangryzin_convolution=kernels.wang_ryzin_convolution,\n",
    "                   aitchisonaitken_convolution=kernels.aitchison_aitken_convolution,\n",
    "                   \n",
    "                   gaussian_cdf=kernels.gaussian_cdf,\n",
    "                   aitchisonaitken_cdf=kernels.aitchison_aitken_cdf,\n",
    "                   wangryzin_cdf=kernels.wang_ryzin_cdf,\n",
    "                   \n",
    "                   d_gaussian=kernels.d_gaussian)\n",
    "\n",
    "\n",
    "Different kernels are selected for different reasons: variable features and if they want to fit pdfs or cdfs.\n",
    "\n",
    "(probably)"
   ]
  },
  {
   "cell_type": "markdown",
   "metadata": {
    "slideshow": {
     "slide_type": "subslide"
    }
   },
   "source": [
    "#### Bandwidth selection methods\n",
    "\n",
    "We have a choice of 3 BW selection methods:\n",
    "\n",
    "\n",
    "##### 1. normal_reference: normal reference rule of thumb (default) \n",
    "* BW from this method is the starting point of the other two algorithms\n",
    "* Silverman's rule for MV case\n",
    "* Quick, but too smooth."
   ]
  },
  {
   "cell_type": "markdown",
   "metadata": {
    "slideshow": {
     "slide_type": "subslide"
    }
   },
   "source": [
    "\n",
    "##### 2. cv_ml: cross validation maximum likelihood\n",
    "\n",
    "\n",
    "* Not quick, but reasonable estimates in reasonable time (within seconds to few minutes).\n",
    "\n",
    "\n",
    "Uses the bandwidth estimate that maximizes the leave-out-out likelihood.  \n",
    "\n",
    "\n",
    "* Implemented in method [\"_cv_ml(self)\" of \"class GenericKDE(object)\" in \"statsmodels.nonparametric._kernel_base\"](https://www.statsmodels.org/dev/_modules/statsmodels/nonparametric/_kernel_base.html)\n",
    "\n",
    "\n",
    "* The leave-one-out log likelihood function is:\n",
    "\n",
    "$$\\ln L=\\sum_{i=1}^{n}\\ln f_{-i}(X_{i})$$\n",
    "\n",
    "\n",
    "* The leave-one-out kernel estimator of $f_{-i}$ is:\n",
    "\n",
    "$$f_{-i}(X_{i})=\\frac{1}{(n-1)h} \\sum_{j=1,j\\neq i}K_{h}(X_{i},X_{j})$$\n",
    "\n",
    "where $K_{h}$ represents the Generalized product kernel estimator:\n",
    "\n",
    "$$ K_{h}(X_{i},X_{j})=\\prod_{s=1}^{q}h_{s}^{-1}k\\left(\\frac{X_{is}-X_{js}}{h_{s}}\\right) $$\n",
    "\n",
    "\n",
    "* The Generalized product Kernel Estimator is also a method of GenericKDE(object)."
   ]
  },
  {
   "cell_type": "markdown",
   "metadata": {
    "slideshow": {
     "slide_type": "subslide"
    }
   },
   "source": [
    "\n",
    "##### 3. cv_ls: cross validation least squares\n",
    "\n",
    "* Very, very slow (>8x times slower than ml)\n",
    "\n",
    "Returns the value of the bandwidth that maximizes the integrated mean square error between the estimated and actual distribution.\n",
    "\n",
    "* Implemented in method [\"_cv_ls(self)\" of \"class GenericKDE(object)\" in \"statsmodels.nonparametric._kernel_base\"](https://www.statsmodels.org/dev/_modules/statsmodels/nonparametric/_kernel_base.html)\n",
    "\n",
    "The integrated mean square error (IMSE) is given by:\n",
    "\n",
    "$$ \\int\\left[\\hat{f}(x)-f(x)\\right]^{2}dx $$"
   ]
  },
  {
   "cell_type": "markdown",
   "metadata": {
    "slideshow": {
     "slide_type": "slide"
    }
   },
   "source": [
    "## Comparing times and bandwidth choices\n",
    "\n",
    "Let's compare times and values for bandwidth selection for each method available in StatsModels, considering **4 dimensions** and **1000 samples**.\n",
    "\n",
    "* Rule-of-thumb:\n",
    "3 loops, best of 3: **109 µs per loop**\n",
    "bw with reference [0.15803504 0.15817752 0.07058083 0.07048409]\n",
    "\n",
    "\n",
    "* CV-LOO ML: \n",
    "3 loops, best of 3: **1min 39s per loop**\n",
    "bw with maximum likelihood [0.04915534 0.03477012 0.09889865 0.09816758]\n",
    "\n",
    "\n",
    "* CV-LS:\n",
    "3 loops, best of 3: **12min 30s per loop**\n",
    "bw with least squares [1.12156416e-01 1.00000000e-10 1.03594669e-01 9.11747124e-02]\n",
    "\n",
    "\n",
    "#### But, check out the bandwidths sizes!"
   ]
  },
  {
   "cell_type": "code",
   "execution_count": 20,
   "metadata": {
    "slideshow": {
     "slide_type": "fragment"
    }
   },
   "outputs": [
    {
     "name": "stdout",
     "output_type": "stream",
     "text": [
      "3 loops, best of 3: 109 µs per loop\n",
      "bw with reference [0.15803504 0.15817752 0.07058083 0.07048409] (only available for gaussian kernels)\n"
     ]
    },
    {
     "name": "stderr",
     "output_type": "stream",
     "text": [
      "/home/lia/anaconda3/lib/python3.6/site-packages/statsmodels/nonparametric/kernel_density.py:161: RuntimeWarning: invalid value encountered in log\n",
      "  L += func(f_i)\n"
     ]
    },
    {
     "name": "stdout",
     "output_type": "stream",
     "text": [
      "3 loops, best of 3: 1min 39s per loop\n",
      "bw with maximum likelihood [0.04915534 0.03477012 0.09889865 0.09816758]\n",
      "3 loops, best of 3: 12min 30s per loop\n",
      "bw with least squares [1.12156416e-01 1.00000000e-10 1.03594669e-01 9.11747124e-02]\n"
     ]
    }
   ],
   "source": [
    "import statsmodels.api as sm\n",
    "\n",
    "#Generate some independent data for each parameter set\n",
    "mvdata={k:distr.rvs(*params[k],size=n) for k in params}\n",
    "rd=np.array(list(mvdata.values()))\n",
    "\n",
    "%timeit -n3 sm.nonparametric.KDEMultivariate(data=rd,var_type=v_type, bw='normal_reference')\n",
    "dens_u_rot = sm.nonparametric.KDEMultivariate(data=rd,var_type=v_type, bw='normal_reference')\n",
    "print('bw with reference',dens_u_rot.bw, '(only available for gaussian kernels)')\n",
    "\n",
    "%timeit -n3 sm.nonparametric.KDEMultivariate(data=rd,var_type=v_type, bw='cv_ml')\n",
    "dens_u_ml = sm.nonparametric.KDEMultivariate(data=rd,var_type=v_type, bw='cv_ml')\n",
    "print('bw with maximum likelihood',dens_u_ml.bw)\n",
    "\n",
    "# BW with least squares takes >8x more than with ml\n",
    "%timeit -n3 sm.nonparametric.KDEMultivariate(data=rd,var_type=v_type, bw='cv_ls')\n",
    "dens_u_ls = sm.nonparametric.KDEMultivariate(data=rd,var_type=v_type, bw='cv_ls')\n",
    "print('bw with least squares',dens_u_ls.bw)"
   ]
  },
  {
   "cell_type": "markdown",
   "metadata": {
    "slideshow": {
     "slide_type": "slide"
    }
   },
   "source": [
    "## Now the fun part: modifying the package to do our bidding\n",
    "---\n",
    "\n",
    "* All we need is in two classes: [class KDEMultivariate(GenericKDE)](https://www.statsmodels.org/dev/_modules/statsmodels/nonparametric/kernel_density.html#KDEMultivariate) and its parent, [class GenericKDE(object)](https://www.statsmodels.org/dev/_modules/statsmodels/nonparametric/_kernel_base.html).\n",
    "\n",
    "\n",
    "* When we call the constructor for the KDEMultivariate object, this happens:\n",
    "    * Data checks & reshaping, internal stuff settings.\n",
    "    * Bandwidth selection function method is chosen and bandwidth is calculated by doing a call to a hidden parent method (`self._compute_bw(bw)` or `self._compute_efficient(bw)`)\n",
    "    \n",
    "\n",
    "* At the parent method, either one of this methods of the parent called:\n",
    "    * `_normal_reference()` <- Silverman's rule\n",
    "    * `_cv_ml()` <- Cross validation maximum likelihood\n",
    "    * `_cv_ls()` <- Cross validation least squares"
   ]
  },
  {
   "cell_type": "markdown",
   "metadata": {
    "slideshow": {
     "slide_type": "slide"
    }
   },
   "source": [
    "## How do the BW calculation methods work?\n",
    "---\n",
    "\n",
    "`_cv_ml()` and `_cv_ls()` are **almost** the same method except for:\n",
    "\n",
    "| `_cv_ml()`  |  `_cv_ls()` |\n",
    "|---|---|\n",
    "|  h0 = self._normal_reference() | h0 = self._normal_reference() |\n",
    "|bw = optimize.fmin(**self.loo_likelihood,** | bw = optimize.fmin(**self.imse,**|\n",
    "|x0=h0, **args=(np.log, ),**|  x0=h0,| \n",
    "|maxiter=1e3, | maxiter=1e3 |\n",
    "|maxfun=1e3, | maxfun=1e3, |\n",
    "|disp=0, | disp=0,|\n",
    "|xtol=1e-3) | xtol=1e-3) |\n",
    "\n",
    "\n",
    "* A bummer: no direct way to feed ranges of hyperparameters in order to constrain the search space!\n",
    "\n",
    "    * They simply call scipy.optimize.fmin underneath.\n",
    "\n",
    "\n",
    "##### `optimize.fmin` comes from [scipy.optimize](https://docs.scipy.org/doc/scipy-1.2.1/reference/generated/scipy.optimize.fmin.html#scipy.optimize.fmin)"
   ]
  },
  {
   "cell_type": "markdown",
   "metadata": {
    "slideshow": {
     "slide_type": "slide"
    }
   },
   "source": [
    "## So everything is passed to an optimization function!\n",
    "---\n",
    "\n",
    "Pretty much. \n",
    "\n",
    "\n",
    "Doesn't mean we can't do something about it :).\n",
    "\n",
    "\n",
    "Let's look inside `loo_likelihood`, and see where can we intervene:    "
   ]
  },
  {
   "cell_type": "code",
   "execution_count": 43,
   "metadata": {
    "collapsed": true,
    "slideshow": {
     "slide_type": "fragment"
    }
   },
   "outputs": [],
   "source": [
    "def loo_likelihood(self, bw, func=lambda x: x):\n",
    "\n",
    "    LOO = LeaveOneOut(self.data) #<- iterator for a leave-one-out over the data\n",
    "    L = 0\n",
    "    for i, X_not_i in enumerate(LOO): #<- per leave-one-out of the data (ouch!)\n",
    "        \n",
    "        f_i = gpke(bw, #<- provided by the optimization algorithm \n",
    "        \n",
    "                   data=-X_not_i, #<- dataset minus one sample as given by LOO\n",
    "                   \n",
    "                   data_predict=-self.data[i, :], #<- REAL dataset, ith point\n",
    "                   \n",
    "                   var_type=self.var_type) #<- 'cccc' or something similar\n",
    "        \n",
    "        L += func(f_i) #<- _cv_ml() passed np.log, so its log-likelihood \n",
    "                       # of gkpe at ith point.\n",
    "    \n",
    "    return -L"
   ]
  },
  {
   "cell_type": "markdown",
   "metadata": {
    "slideshow": {
     "slide_type": "slide"
    }
   },
   "source": [
    "## What happens inside gkpe?\n",
    "---\n",
    "\n",
    "* Both the CDF and PDF are estimated with a gpke. They just use a different kernel.\n",
    "\n",
    "\n",
    "* All the kernel implementations are [here](https://github.com/statsmodels/statsmodels/blob/master/statsmodels/nonparametric/kernels.py)."
   ]
  },
  {
   "cell_type": "code",
   "execution_count": null,
   "metadata": {
    "collapsed": true,
    "slideshow": {
     "slide_type": "fragment"
    }
   },
   "outputs": [],
   "source": [
    "def gpke(bw, data, data_predict, var_type, ckertype='gaussian',\n",
    "         okertype='wangryzin', ukertype='aitchisonaitken', tosum=True):\n",
    "    \n",
    "    kertypes = dict(c=ckertype, o=okertype, u=ukertype) #<- kernel selection\n",
    "\n",
    "    Kval = np.empty(data.shape)\n",
    "    for ii, vtype in enumerate(var_type): #per ii dimension\n",
    "        func = kernel_func[kertypes[vtype]]\n",
    "        Kval[:, ii] = func(bw[ii], data[:, ii], data_predict[ii]) \n",
    "\n",
    "    iscontinuous = np.array([c == 'c' for c in var_type])\n",
    "    dens = Kval.prod(axis=1) / np.prod(bw[iscontinuous]) #<- Ta-da, kernel products.\n",
    "    if tosum:\n",
    "        return dens.sum(axis=0)\n",
    "    else:\n",
    "        return dens"
   ]
  },
  {
   "cell_type": "markdown",
   "metadata": {
    "slideshow": {
     "slide_type": "slide"
    }
   },
   "source": [
    "# What did I do?"
   ]
  },
  {
   "cell_type": "markdown",
   "metadata": {
    "slideshow": {
     "slide_type": "slide"
    }
   },
   "source": [
    "## Groundwork:\n",
    "---\n",
    "\n",
    "Methods for: \n",
    "\n",
    "\n",
    "* Estimating the Fréchet bounds for a dataset.\n",
    "\n",
    "\n",
    "* Visualizing the bounds (2d datasets) [see here](https://github.com/lia-statsletters/notebooks/blob/master/Frechet.ipynb)\n",
    "\n",
    "\n",
    "* Counting how many violations of the bound were made by a CDF.\n",
    "\n",
    "\n",
    "* Measuring the size of the violation at each point (diff between the point of the CDF in which the violation happened, and the bound that was broken)\n",
    "\n",
    "\n",
    "* Generating experiments\n",
    "\n",
    "\n",
    "* Massaging outputs of the profiler"
   ]
  },
  {
   "cell_type": "markdown",
   "metadata": {
    "slideshow": {
     "slide_type": "slide"
    }
   },
   "source": [
    "## Then...\n",
    "---\n",
    "\n",
    "* Estimated a percentage of bound breaking for winning bandwidths in different methods.\n",
    "    * It was not zero!!!\n",
    "\n",
    "\n",
    "* Tried using the violations as a way to prune \"unpromising\" bandwidths before applying the gpke thru the whole LOO iteration.\n",
    "\n",
    "    * It made the optimization algorithm go coo-coo\n",
    "\n",
    "    * Because scipy.optimize.fmin was expecting a number out of that function.\n",
    "\n",
    "    * To return something \"proportionally punishing\", I probably should keeping track of the previous estimates.\n",
    "\n",
    "    * That would require more work.\n",
    "\n",
    "        * Basically also hacking the code for the optimization.\n",
    "        * Future work!"
   ]
  },
  {
   "cell_type": "markdown",
   "metadata": {
    "slideshow": {
     "slide_type": "slide"
    }
   },
   "source": [
    "## Then more...\n",
    "---\n",
    "\n",
    "#### Hijacked loo_likelihood() to make my own method in which violations are used to guide the optimization algorithm.\n",
    "\n",
    "* Tried feeding number of violations to the algorithm. \n",
    "\n",
    "    * The algorithm got lost.\n",
    "    \n",
    "    * Maybe too little information?\n",
    "        \n",
    "   \n",
    "* Tried feeding the sum of the size of all violations. \n",
    "\n",
    "    * It kinda worked but the final steps of the algorithm were unstable.\n",
    "    \n",
    "    * Can we make it a bit more informative?\n",
    "        "
   ]
  },
  {
   "cell_type": "markdown",
   "metadata": {
    "collapsed": true,
    "slideshow": {
     "slide_type": "slide"
    }
   },
   "source": [
    "## And then, some more.\n",
    "---        \n",
    "* Tried feeding a weighted sum of the size of all violations.\n",
    "\n",
    "    * The weights were the size of the bound at each violation point.\n",
    "\n",
    "    * The rationale is that a violation at a narrow point should be punished more than a violation at an already wide point.\n",
    "    \n",
    "    * It still takes between 20% to 200% more time than cv_ml when it should be at least an order of magnitude faster (cdf estimation is faster than leave-one-out)\n",
    "    \n",
    "    * **Gee, I wonder if I have a bug somewhere?**"
   ]
  },
  {
   "cell_type": "markdown",
   "metadata": {
    "slideshow": {
     "slide_type": "slide"
    }
   },
   "source": [
    "# Yup, I actually had a bug.\n",
    "---"
   ]
  },
  {
   "cell_type": "markdown",
   "metadata": {
    "slideshow": {
     "slide_type": "slide"
    }
   },
   "source": [
    "## What was the bug?\n",
    "---\n",
    "\n",
    "* While making this presentation I realized I had a bug.\n",
    "\n",
    "\n",
    "* My method for estimating bounds should be called with **THE CDFs** of each dimension.\n",
    "    * I was calling it with the data directly (!!!).\n",
    "\n",
    "\n",
    "* No wonder I was getting horrible results.\n",
    "\n",
    "\n",
    "* So the actual results of this hack will have to wait :P.\n",
    "    * All my tests of the weekend are now useless.\n",
    "    * Will keep them somewhere in my hard-drive as mementos..."
   ]
  },
  {
   "cell_type": "markdown",
   "metadata": {
    "slideshow": {
     "slide_type": "slide"
    }
   },
   "source": [
    ";D I will repeat the tests with the right call and show the results for the next presentation.\n",
    "\n",
    "<img src=\"https://i.kym-cdn.com/photos/images/newsfeed/000/187/324/allthethings.png\" style=\"width: 70%;\">"
   ]
  },
  {
   "cell_type": "markdown",
   "metadata": {
    "slideshow": {
     "slide_type": "slide"
    }
   },
   "source": [
    "## Ok, is not like everything is wrong\n",
    "---\n",
    "\n",
    "Let's do some quick counts here for Fréchet violations."
   ]
  },
  {
   "cell_type": "code",
   "execution_count": 41,
   "metadata": {
    "collapsed": true,
    "slideshow": {
     "slide_type": "fragment"
    }
   },
   "outputs": [],
   "source": [
    "def get_frechets(dvars):\n",
    "    d=len(dvars)\n",
    "    n=len(dvars[0])\n",
    "    dimx=np.array(range(d))\n",
    "    un=np.ones(d,dtype=int)\n",
    "    bottom_frechet = np.array([max( np.sum( dvars[dimx,un*i] ) +1-d, 0 ) \n",
    "                               for i in range(n) ])\n",
    "    \n",
    "    top_frechet = np.array([min([y[i] for y in dvars]) for i in range(n)])\n",
    "    return {'top': top_frechet, 'bottom': bottom_frechet}"
   ]
  },
  {
   "cell_type": "code",
   "execution_count": 29,
   "metadata": {
    "slideshow": {
     "slide_type": "fragment"
    }
   },
   "outputs": [],
   "source": [
    "cdfs={fname :distr.cdf(smpl,*params[fname]) for fname in params}\n",
    "frechets=get_frechets(np.array(list(cdfs.values())))"
   ]
  },
  {
   "cell_type": "markdown",
   "metadata": {
    "slideshow": {
     "slide_type": "fragment"
    }
   },
   "source": [
    "### Calculating number of violations"
   ]
  },
  {
   "cell_type": "code",
   "execution_count": 30,
   "metadata": {
    "collapsed": true,
    "slideshow": {
     "slide_type": "fragment"
    }
   },
   "outputs": [],
   "source": [
    "def check_frechet_fails(guinea_cdf,frechets):\n",
    "    fails={'top':[], 'bottom':[]}\n",
    "    for n in range(len(guinea_cdf)):\n",
    "        #n_hyper_point=np.array([x[n] for x in rd])\n",
    "        if guinea_cdf[n]>frechets['top'][n]:\n",
    "            fails['top'].append(True)\n",
    "        else:\n",
    "            fails['top'].append(False)\n",
    "\n",
    "        if guinea_cdf[n]<frechets['bottom'][n]:\n",
    "            fails['bottom'].append(True)\n",
    "        else:\n",
    "            fails['bottom'].append(False)\n",
    "    return {'top':np.array(fails['top']),\n",
    "            'bottom':np.array(fails['bottom'])}"
   ]
  },
  {
   "cell_type": "markdown",
   "metadata": {
    "slideshow": {
     "slide_type": "fragment"
    }
   },
   "source": [
    "\n",
    "Given 4 dimensions and 1000 samples, we got:\n",
    "\n",
    "\n",
    "* For Silverman: 58.8% violations\n",
    "\n",
    "* For cv_ml: 58.0% violations\n",
    "\n",
    "* For cv_ls: 57.0% violations\n"
   ]
  },
  {
   "cell_type": "code",
   "execution_count": 35,
   "metadata": {
    "slideshow": {
     "slide_type": "fragment"
    }
   },
   "outputs": [
    {
     "name": "stdout",
     "output_type": "stream",
     "text": [
      "violations:588 (58.8%)\n"
     ]
    }
   ],
   "source": [
    "# For Silverman\n",
    "violations_silverman=check_frechet_fails(dens_u_rot.cdf(),frechets)\n",
    "violations_silverman=np.sum(violations_silverman['top'])+ np.sum(violations_silverman['bottom'])\n",
    "print(f'violations:{violations_silverman} ({100.*violations_silverman/len(smpl)}%)')"
   ]
  },
  {
   "cell_type": "code",
   "execution_count": 36,
   "metadata": {
    "slideshow": {
     "slide_type": "fragment"
    }
   },
   "outputs": [
    {
     "name": "stdout",
     "output_type": "stream",
     "text": [
      "violations:580 (58.0%)\n"
     ]
    }
   ],
   "source": [
    "# For cv_ml\n",
    "violations_cv_ml=check_frechet_fails(dens_u_ml.cdf(),frechets)\n",
    "violations_cv_ml=np.sum(violations_cv_ml['top'])+ np.sum(violations_cv_ml['bottom'])\n",
    "print(f'violations:{violations_cv_ml} ({100.*violations_cv_ml/len(smpl)}%)')"
   ]
  },
  {
   "cell_type": "code",
   "execution_count": 40,
   "metadata": {
    "slideshow": {
     "slide_type": "fragment"
    }
   },
   "outputs": [
    {
     "name": "stdout",
     "output_type": "stream",
     "text": [
      "violations:579 (57.9%)\n"
     ]
    }
   ],
   "source": [
    "# For cv_ls\n",
    "violations_cv_ls=check_frechet_fails(dens_u_ls.cdf(),frechets)\n",
    "violations_cv_ls=np.sum(violations_cv_ls['top'])+ np.sum(violations_cv_ls['bottom'])\n",
    "print(f'violations:{violations_cv_ls} ({100.*violations_cv_ls/len(smpl)}%)')"
   ]
  },
  {
   "cell_type": "markdown",
   "metadata": {
    "slideshow": {
     "slide_type": "slide"
    }
   },
   "source": [
    "## What more?\n",
    "---\n",
    "\n",
    "Quite a lot of sweat went into generating code for comparing my approaches with `cv_ml`\n",
    "\n",
    "I may as well show it to you, and point where the bug was :(."
   ]
  },
  {
   "cell_type": "code",
   "execution_count": 42,
   "metadata": {
    "collapsed": true,
    "slideshow": {
     "slide_type": "fragment"
    }
   },
   "outputs": [],
   "source": [
    "def generate_experiments(reps,n,params, distr, dims):\n",
    "    bws_frechet={f'bw_{x}':[] for x in params}\n",
    "    bws_cv_ml={f'bw_{x}':[] for x in params}\n",
    "\n",
    "\n",
    "    for iteration in range(reps):\n",
    "        mvdata = {k: distr.rvs(*params[k], size=n) for k in params}\n",
    "        rd = np.array(list(mvdata.values())) #<---- THIS IS NOT A CDF!!!!!\n",
    "\n",
    "        # get frechets and thresholds\n",
    "        frechets = get_frechets(rd)  #<------- THEREFORE THIS IS A BUG !!!!!\n",
    "\n",
    "        bw_frechets, bw_cv_ml=profile_run(rd, frechets,iteration)\n",
    "\n",
    "        for ix,x in enumerate(params):\n",
    "            bws_frechet[f'bw_{x}'].append(bw_frechets[ix])\n",
    "            bws_cv_ml[f'bw_{x}'].append(bw_cv_ml[ix])\n",
    "\n",
    "    pd.DataFrame(bws_frechet).to_csv(f'/home/lia/liaProjects/outs/bws_frechet_d{dims}-n{n}-iter{reps}.csv')\n",
    "    pd.DataFrame(bws_cv_ml).to_csv(f'/home/lia/liaProjects/outs/bws_cv_ml_d{dims}-n{n}-iter{reps}.csv')"
   ]
  },
  {
   "cell_type": "markdown",
   "metadata": {
    "slideshow": {
     "slide_type": "slide"
    }
   },
   "source": [
    "### And this is how the functions that make the calculations look underneath.\n",
    "---"
   ]
  },
  {
   "cell_type": "code",
   "execution_count": null,
   "metadata": {
    "collapsed": true,
    "slideshow": {
     "slide_type": "fragment"
    }
   },
   "outputs": [],
   "source": [
    "def get_bw(datapfft, var_type, reference, frech_bounds=None):\n",
    "    # Using leave-one-out likelihood\n",
    "    # the initial value for the optimization is the normal_reference\n",
    "    # h0 = normal_reference()\n",
    "\n",
    "    data = adjust_shape(datapfft, len(var_type))\n",
    "\n",
    "    if not frech_bounds:\n",
    "        fmin =lambda bw, funcx: loo_likelihood(bw, data, var_type, func=funcx)\n",
    "        argsx=(np.log,)\n",
    "    else:\n",
    "        fmin = lambda bw, funcx: frechet_likelihood(bw, data, var_type,\n",
    "                                                    frech_bounds, func=funcx)\n",
    "        argsx=(None,) #second element of tuple is if debug mode\n",
    "\n",
    "    h0 = reference\n",
    "    bw = optimize.fmin(fmin, x0=h0, args=argsx, #feeding logarithm for loo\n",
    "                       maxiter=1e3, maxfun=1e3, disp=0, xtol=1e-3)\n",
    "    # bw = self._set_bw_bounds(bw)  # bound bw if necessary\n",
    "    return bw"
   ]
  },
  {
   "cell_type": "markdown",
   "metadata": {},
   "source": [
    "### And this was my frechet_likelihood method\n",
    "---"
   ]
  },
  {
   "cell_type": "code",
   "execution_count": null,
   "metadata": {
    "collapsed": true,
    "slideshow": {
     "slide_type": "fragment"
    }
   },
   "outputs": [],
   "source": [
    "def frechet_likelihood(bww, datax, var_type, frech_bounds, func=None, debug_mode=False,):\n",
    "    \n",
    "    cdf_est = cdf(datax, bww, var_type)  # <- calls gpke underneath, but is a short call\n",
    "    \n",
    "    d_violations = calc_frechet_fails(cdf_est, frech_bounds)\n",
    "    \n",
    "    width_bound = frech_bounds['top'] - frech_bounds['bottom']\n",
    "    \n",
    "    viols=(d_violations['top']+d_violations['bottom'])/width_bound\n",
    "    \n",
    "    L= np.sum(viols)\n",
    "    return L"
   ]
  },
  {
   "cell_type": "markdown",
   "metadata": {},
   "source": [
    "### And this is how profiling info was collected\n",
    "---\n",
    "\n",
    "The python profiler is a bit unfriendly, so maybe this code could be useful as a snippet?\n",
    "\n",
    "Or, getting a professional license of pycharm ;) (Thanks boss!)"
   ]
  },
  {
   "cell_type": "code",
   "execution_count": null,
   "metadata": {
    "collapsed": true,
    "slideshow": {
     "slide_type": "fragment"
    }
   },
   "outputs": [],
   "source": [
    "def profile_run(rd,frechets,iterx):\n",
    "    dims=len(rd)\n",
    "    n=len(rd[0])\n",
    "    v_type = f'{\"c\"*dims}'\n",
    "    # threshold: number of violations by the cheapest method.\n",
    "    dens_u_rot = sm.nonparametric.KDEMultivariate(data=rd, var_type=v_type, bw='normal_reference')\n",
    "    cdf_dens_u_rot = dens_u_rot.cdf()\n",
    "    violations_rot = count_frechet_fails(cdf_dens_u_rot, frechets)\n",
    "\n",
    "\n",
    "    #profile frechets\n",
    "    pr = cProfile.Profile()\n",
    "    pr.enable()\n",
    "    bw_frechets = get_bw(rd, v_type, dens_u_rot.bw, frech_bounds=frechets)\n",
    "    pr.disable()\n",
    "\n",
    "    s = io.StringIO()\n",
    "    ps = pstats.Stats(pr, stream=s).sort_stats('cumtime')\n",
    "    ps.print_stats()\n",
    "    s = s.getvalue()\n",
    "\n",
    "    with open(f'/home/lia/liaProjects/outs/frechet-profile-d{dims}-n{n}-iter{iterx}.txt', 'w+') as f:\n",
    "        f.write(s)\n",
    "\n",
    "\n",
    "    #profile cv_ml\n",
    "    pr = cProfile.Profile()\n",
    "    pr.enable()\n",
    "    bw_cv_ml = get_bw(rd, v_type, dens_u_rot.bw)\n",
    "    pr.disable()\n",
    "\n",
    "    s = io.StringIO()\n",
    "    ps = pstats.Stats(pr, stream=s).sort_stats('cumtime')\n",
    "    ps.print_stats()\n",
    "    s = s.getvalue()\n",
    "\n",
    "    with open(f'/home/lia/liaProjects/outs/loo-ml-profile-d{dims}-n{n}-iter{iterx}.txt', 'w+') as f:\n",
    "        f.write(s)\n",
    "\n",
    "\n",
    "    return bw_frechets,bw_cv_ml"
   ]
  },
  {
   "cell_type": "markdown",
   "metadata": {
    "slideshow": {
     "slide_type": "slide"
    }
   },
   "source": [
    "## Next Month!\n",
    "---\n",
    "\n",
    "* Repeat runs but without the bug ;) and using the data from the samples.\n",
    "\n",
    "* See if this makes reasonable kernels in the 2d case. \n",
    "\n",
    "* Interactive graphics for plotting the bounds and the cdfs in the 2d case."
   ]
  },
  {
   "cell_type": "markdown",
   "metadata": {
    "slideshow": {
     "slide_type": "slide"
    }
   },
   "source": [
    "# Thank you :)!\n",
    "---\n",
    "\n",
    "Any questions? \n",
    "\n",
    "<img src=\"https://media.giphy.com/media/4uraUi810KSMo/giphy.gif\">"
   ]
  },
  {
   "cell_type": "code",
   "execution_count": null,
   "metadata": {
    "collapsed": true
   },
   "outputs": [],
   "source": []
  }
 ],
 "metadata": {
  "celltoolbar": "Slideshow",
  "kernelspec": {
   "display_name": "Python 3",
   "language": "python",
   "name": "python3"
  },
  "language_info": {
   "codemirror_mode": {
    "name": "ipython",
    "version": 3
   },
   "file_extension": ".py",
   "mimetype": "text/x-python",
   "name": "python",
   "nbconvert_exporter": "python",
   "pygments_lexer": "ipython3",
   "version": "3.7.3"
  }
 },
 "nbformat": 4,
 "nbformat_minor": 2
}
